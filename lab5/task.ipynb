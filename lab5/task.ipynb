{
 "cells": [
  {
   "cell_type": "code",
   "execution_count": 1,
   "metadata": {},
   "outputs": [
    {
     "name": "stdout",
     "output_type": "stream",
     "text": [
      "Complete\n"
     ]
    }
   ],
   "source": [
    "import pandas as pd  # data processing, CSV file I/O\n",
    "import numpy as np\n",
    "import matplotlib.pyplot as plt\n",
    "import tensorflow as tf\n",
    "import keras_tuner as kt\n",
    "\n",
    "# make a plot outputs appear and be stored within the notebook\n",
    "%matplotlib inline\n",
    "\n",
    "print(\"Complete\")"
   ]
  },
  {
   "cell_type": "code",
   "execution_count": 2,
   "metadata": {},
   "outputs": [],
   "source": [
    "LETTER_NAMES = {\n",
    "    1: \"alif\",\n",
    "    10: \"ra\",\n",
    "    11: \"zay\",\n",
    "    12: \"sin\",\n",
    "    13: \"shin\",\n",
    "    14: \"sad\",\n",
    "    15: \"dad\",\n",
    "    16: \"da\",\n",
    "    17: \"za\",\n",
    "    18: \"ayn\",\n",
    "    19: \"gayn\",\n",
    "    2: \"ba\",\n",
    "    20: \"fa\",\n",
    "    21: \"qaf\",\n",
    "    22: \"kaf\",\n",
    "    23: \"lam\",\n",
    "    24: \"mim\",\n",
    "    25: \"non\",\n",
    "    26: \"ha\",\n",
    "    27: \"waw\",\n",
    "    28: \"ya\",\n",
    "    29: \"hamza\",\n",
    "    3: \"ta\",\n",
    "    4: \"tha\",\n",
    "    5: \"gim\",\n",
    "    6: \"ha\",\n",
    "    7: \"kha\",\n",
    "    8: \"dal\",\n",
    "    9: \"thal\"\n",
    "}"
   ]
  },
  {
   "cell_type": "code",
   "execution_count": 3,
   "metadata": {},
   "outputs": [],
   "source": [
    "x_train = pd.read_csv(\"./X_train.csv\")\n",
    "y_train = pd.read_csv(\"./y_train.csv\")"
   ]
  },
  {
   "cell_type": "code",
   "execution_count": 4,
   "metadata": {},
   "outputs": [
    {
     "name": "stdout",
     "output_type": "stream",
     "text": [
      "Index(['pixel0', 'pixel1', 'pixel2', 'pixel3', 'pixel4', 'pixel5', 'pixel6',\n",
      "       'pixel7', 'pixel8', 'pixel9',\n",
      "       ...\n",
      "       'pixel1014', 'pixel1015', 'pixel1016', 'pixel1017', 'pixel1018',\n",
      "       'pixel1019', 'pixel1020', 'pixel1021', 'pixel1022', 'pixel1023'],\n",
      "      dtype='object', length=1024)\n",
      "Index(['label'], dtype='object')\n"
     ]
    }
   ],
   "source": [
    "print(x_train.columns)\n",
    "print(y_train.columns)\n",
    "assert len(x_train) == len(y_train)"
   ]
  },
  {
   "cell_type": "code",
   "execution_count": 5,
   "metadata": {},
   "outputs": [
    {
     "name": "stdout",
     "output_type": "stream",
     "text": [
      "<class 'pandas.core.frame.DataFrame'>\n",
      "RangeIndex: 37933 entries, 0 to 37932\n",
      "Columns: 1024 entries, pixel0 to pixel1023\n",
      "dtypes: int64(1024)\n",
      "memory usage: 296.4 MB\n"
     ]
    }
   ],
   "source": [
    "x_train.info()"
   ]
  },
  {
   "cell_type": "code",
   "execution_count": 6,
   "metadata": {},
   "outputs": [
    {
     "name": "stdout",
     "output_type": "stream",
     "text": [
      "<class 'pandas.core.frame.DataFrame'>\n",
      "RangeIndex: 37933 entries, 0 to 37932\n",
      "Data columns (total 1 columns):\n",
      " #   Column  Non-Null Count  Dtype\n",
      "---  ------  --------------  -----\n",
      " 0   label   37933 non-null  int64\n",
      "dtypes: int64(1)\n",
      "memory usage: 296.5 KB\n"
     ]
    }
   ],
   "source": [
    "y_train.info()"
   ]
  },
  {
   "cell_type": "markdown",
   "metadata": {},
   "source": [
    "### Distributions"
   ]
  },
  {
   "cell_type": "code",
   "execution_count": 7,
   "metadata": {},
   "outputs": [
    {
     "data": {
      "text/plain": [
       "<AxesSubplot:>"
      ]
     },
     "execution_count": 7,
     "metadata": {},
     "output_type": "execute_result"
    },
    {
     "data": {
      "image/png": "[encoded data removed]",
      "text/plain": [
       "<Figure size 720x504 with 1 Axes>"
      ]
     },
     "metadata": {
      "needs_background": "light"
     },
     "output_type": "display_data"
    }
   ],
   "source": [
    "plt.figure(figsize=(10,7))\n",
    "y_train['label'].value_counts().plot(kind=\"bar\")"
   ]
  },
  {
   "cell_type": "code",
   "execution_count": 8,
   "metadata": {},
   "outputs": [
    {
     "data": {
      "text/plain": [
       "255"
      ]
     },
     "execution_count": 8,
     "metadata": {},
     "output_type": "execute_result"
    }
   ],
   "source": [
    "max([x_train[column].max() for column in x_train.columns] )"
   ]
  },
  {
   "cell_type": "markdown",
   "metadata": {},
   "source": [
    "So each pixel takes value 0-255"
   ]
  },
  {
   "cell_type": "markdown",
   "metadata": {},
   "source": [
    "### Changing data format to compatible with tf training"
   ]
  },
  {
   "cell_type": "markdown",
   "metadata": {},
   "source": [
    "Shuffling"
   ]
  },
  {
   "cell_type": "code",
   "execution_count": 9,
   "metadata": {},
   "outputs": [],
   "source": [
    "idx = np.random.permutation(x_train.index)\n",
    "x_train = x_train.reindex(idx)\n",
    "y_train = y_train.reindex(idx)"
   ]
  },
  {
   "cell_type": "code",
   "execution_count": 10,
   "metadata": {},
   "outputs": [
    {
     "data": {
      "text/plain": [
       "<tf.Tensor: shape=(37933, 1024), dtype=float64, numpy=\n",
       "array([[0., 0., 0., ..., 0., 0., 0.],\n",
       "       [0., 0., 0., ..., 0., 0., 0.],\n",
       "       [0., 0., 0., ..., 0., 0., 0.],\n",
       "       ...,\n",
       "       [0., 0., 0., ..., 0., 0., 0.],\n",
       "       [0., 0., 0., ..., 0., 0., 0.],\n",
       "       [0., 0., 0., ..., 0., 0., 0.]])>"
      ]
     },
     "execution_count": 10,
     "metadata": {},
     "output_type": "execute_result"
    }
   ],
   "source": [
    "x_train_tf = tf.convert_to_tensor(x_train)\n",
    "x_train_tf = x_train_tf / 255 # normalisation from 0 - 255 to 0 - 1\n",
    "x_train_tf"
   ]
  },
  {
   "cell_type": "code",
   "execution_count": 11,
   "metadata": {},
   "outputs": [
    {
     "data": {
      "text/html": [
       "<div>\n",
       "<style scoped>\n",
       "    .dataframe tbody tr th:only-of-type {\n",
       "        vertical-align: middle;\n",
       "    }\n",
       "\n",
       "    .dataframe tbody tr th {\n",
       "        vertical-align: top;\n",
       "    }\n",
       "\n",
       "    .dataframe thead th {\n",
       "        text-align: right;\n",
       "    }\n",
       "</style>\n",
       "<table border=\"1\" class=\"dataframe\">\n",
       "  <thead>\n",
       "    <tr style=\"text-align: right;\">\n",
       "      <th></th>\n",
       "      <th>label</th>\n",
       "    </tr>\n",
       "  </thead>\n",
       "  <tbody>\n",
       "    <tr>\n",
       "      <th>4675</th>\n",
       "      <td>2</td>\n",
       "    </tr>\n",
       "    <tr>\n",
       "      <th>33583</th>\n",
       "      <td>25</td>\n",
       "    </tr>\n",
       "    <tr>\n",
       "      <th>35270</th>\n",
       "      <td>27</td>\n",
       "    </tr>\n",
       "    <tr>\n",
       "      <th>3294</th>\n",
       "      <td>1</td>\n",
       "    </tr>\n",
       "    <tr>\n",
       "      <th>21193</th>\n",
       "      <td>16</td>\n",
       "    </tr>\n",
       "    <tr>\n",
       "      <th>...</th>\n",
       "      <td>...</td>\n",
       "    </tr>\n",
       "    <tr>\n",
       "      <th>26095</th>\n",
       "      <td>19</td>\n",
       "    </tr>\n",
       "    <tr>\n",
       "      <th>1497</th>\n",
       "      <td>0</td>\n",
       "    </tr>\n",
       "    <tr>\n",
       "      <th>18660</th>\n",
       "      <td>14</td>\n",
       "    </tr>\n",
       "    <tr>\n",
       "      <th>21814</th>\n",
       "      <td>16</td>\n",
       "    </tr>\n",
       "    <tr>\n",
       "      <th>33206</th>\n",
       "      <td>25</td>\n",
       "    </tr>\n",
       "  </tbody>\n",
       "</table>\n",
       "<p>37933 rows × 1 columns</p>\n",
       "</div>"
      ],
      "text/plain": [
       "       label\n",
       "4675       2\n",
       "33583     25\n",
       "35270     27\n",
       "3294       1\n",
       "21193     16\n",
       "...      ...\n",
       "26095     19\n",
       "1497       0\n",
       "18660     14\n",
       "21814     16\n",
       "33206     25\n",
       "\n",
       "[37933 rows x 1 columns]"
      ]
     },
     "execution_count": 11,
     "metadata": {},
     "output_type": "execute_result"
    }
   ],
   "source": [
    "y_train_tf = y_train - 1\n",
    "y_train_tf"
   ]
  },
  {
   "cell_type": "markdown",
   "metadata": {},
   "source": [
    "### Test data\n",
    "For assessing accuracy, loss, etc"
   ]
  },
  {
   "cell_type": "code",
   "execution_count": 12,
   "metadata": {},
   "outputs": [],
   "source": [
    "x_test = pd.read_csv(\"./X_test.csv\")\n",
    "y_test = pd.read_csv(\"./y_test.csv\")"
   ]
  },
  {
   "cell_type": "code",
   "execution_count": 13,
   "metadata": {},
   "outputs": [
    {
     "data": {
      "text/html": [
       "<div>\n",
       "<style scoped>\n",
       "    .dataframe tbody tr th:only-of-type {\n",
       "        vertical-align: middle;\n",
       "    }\n",
       "\n",
       "    .dataframe tbody tr th {\n",
       "        vertical-align: top;\n",
       "    }\n",
       "\n",
       "    .dataframe thead th {\n",
       "        text-align: right;\n",
       "    }\n",
       "</style>\n",
       "<table border=\"1\" class=\"dataframe\">\n",
       "  <thead>\n",
       "    <tr style=\"text-align: right;\">\n",
       "      <th></th>\n",
       "      <th>label</th>\n",
       "    </tr>\n",
       "  </thead>\n",
       "  <tbody>\n",
       "    <tr>\n",
       "      <th>0</th>\n",
       "      <td>0</td>\n",
       "    </tr>\n",
       "    <tr>\n",
       "      <th>1</th>\n",
       "      <td>0</td>\n",
       "    </tr>\n",
       "    <tr>\n",
       "      <th>2</th>\n",
       "      <td>0</td>\n",
       "    </tr>\n",
       "    <tr>\n",
       "      <th>3</th>\n",
       "      <td>0</td>\n",
       "    </tr>\n",
       "    <tr>\n",
       "      <th>4</th>\n",
       "      <td>0</td>\n",
       "    </tr>\n",
       "    <tr>\n",
       "      <th>...</th>\n",
       "      <td>...</td>\n",
       "    </tr>\n",
       "    <tr>\n",
       "      <th>9496</th>\n",
       "      <td>28</td>\n",
       "    </tr>\n",
       "    <tr>\n",
       "      <th>9497</th>\n",
       "      <td>28</td>\n",
       "    </tr>\n",
       "    <tr>\n",
       "      <th>9498</th>\n",
       "      <td>28</td>\n",
       "    </tr>\n",
       "    <tr>\n",
       "      <th>9499</th>\n",
       "      <td>28</td>\n",
       "    </tr>\n",
       "    <tr>\n",
       "      <th>9500</th>\n",
       "      <td>28</td>\n",
       "    </tr>\n",
       "  </tbody>\n",
       "</table>\n",
       "<p>9501 rows × 1 columns</p>\n",
       "</div>"
      ],
      "text/plain": [
       "      label\n",
       "0         0\n",
       "1         0\n",
       "2         0\n",
       "3         0\n",
       "4         0\n",
       "...     ...\n",
       "9496     28\n",
       "9497     28\n",
       "9498     28\n",
       "9499     28\n",
       "9500     28\n",
       "\n",
       "[9501 rows x 1 columns]"
      ]
     },
     "execution_count": 13,
     "metadata": {},
     "output_type": "execute_result"
    }
   ],
   "source": [
    "x_test_tf = tf.convert_to_tensor(x_test)\n",
    "x_test_tf = x_test_tf / 255 # normalisation from 0 - 255 to 0 - 1\n",
    "y_test_tf = y_test - 1\n",
    "y_test_tf"
   ]
  },
  {
   "cell_type": "markdown",
   "metadata": {},
   "source": [
    "### TF model"
   ]
  },
  {
   "cell_type": "code",
   "execution_count": 21,
   "metadata": {},
   "outputs": [],
   "source": [
    "stop_early = tf.keras.callbacks.EarlyStopping(monitor='val_loss', patience=6)\n",
    "NUMBER_OF_LAYERS = 6"
   ]
  },
  {
   "cell_type": "code",
   "execution_count": 22,
   "metadata": {},
   "outputs": [],
   "source": [
    "def model_builder(hp):\n",
    "    model = tf.keras.Sequential()\n",
    "    model.add(tf.keras.layers.Input(shape=1024))\n",
    "\n",
    "    for i in range(NUMBER_OF_LAYERS):\n",
    "        # Tune the number of units in the first Dense layer\n",
    "        # Choose an optimal value between 4-1024\n",
    "        hp_units = hp.Int(f'units_{i}', min_value=5, max_value=516, step=3)\n",
    "        model.add(tf.keras.layers.Dense(units=hp_units, activation='relu'))\n",
    "\n",
    "    model.add(tf.keras.layers.Dense(29))\n",
    "\n",
    "    hp_learning_rate = hp.Choice('learning_rate', values=[1e-2, 1e-3, 1e-4])\n",
    "\n",
    "    model.compile(optimizer=tf.keras.optimizers.Adam(learning_rate=hp_learning_rate),\n",
    "                    loss=tf.keras.losses.SparseCategoricalCrossentropy(from_logits=True),\n",
    "                    metrics=['accuracy'])\n",
    "\n",
    "    return model"
   ]
  },
  {
   "cell_type": "code",
   "execution_count": 23,
   "metadata": {},
   "outputs": [],
   "source": [
    "tuner = kt.Hyperband(model_builder,\n",
    "    objective='val_accuracy',\n",
    "    max_epochs=100,\n",
    "    factor=3,\n",
    "    project_name='hyperparams')"
   ]
  },
  {
   "cell_type": "code",
   "execution_count": 24,
   "metadata": {},
   "outputs": [
    {
     "name": "stdout",
     "output_type": "stream",
     "text": [
      "Trial 254 Complete [00h 00m 36s]\n",
      "val_accuracy: 0.5079072117805481\n",
      "\n",
      "Best val_accuracy So Far: 0.542171835899353\n",
      "Total elapsed time: 01h 03m 15s\n",
      "INFO:tensorflow:Oracle triggered exit\n"
     ]
    }
   ],
   "source": [
    "tuner.search(x_train_tf, y_train_tf, epochs=100, validation_split=0.1, shuffle=True, callbacks=[stop_early])"
   ]
  },
  {
   "cell_type": "code",
   "execution_count": 25,
   "metadata": {},
   "outputs": [
    {
     "name": "stdout",
     "output_type": "stream",
     "text": [
      "learning_rate: 0.001\n",
      "Layer 0: 491\n",
      "Layer 1: 269\n",
      "Layer 2: 218\n",
      "Layer 3: 104\n",
      "Layer 4: 113\n",
      "Layer 5: 299\n"
     ]
    }
   ],
   "source": [
    "best_hps=tuner.get_best_hyperparameters(num_trials=1)[0]\n",
    "model = tuner.hypermodel.build(best_hps)\n",
    "print(f\"learning_rate: {best_hps.get('learning_rate')}\")\n",
    "for i in range(NUMBER_OF_LAYERS):\n",
    "    print(f\"Layer {i}: {best_hps.get(f'units_{i}')}\")"
   ]
  },
  {
   "cell_type": "code",
   "execution_count": 26,
   "metadata": {},
   "outputs": [
    {
     "name": "stdout",
     "output_type": "stream",
     "text": [
      "Epoch 1/300\n",
      "1067/1067 [==============================] - 3s 3ms/step - loss: 2.6300 - accuracy: 0.2168 - val_loss: 2.2082 - val_accuracy: 0.3184\n",
      "Epoch 2/300\n",
      "1067/1067 [==============================] - 3s 3ms/step - loss: 1.9439 - accuracy: 0.3844 - val_loss: 1.9266 - val_accuracy: 0.3951\n",
      "Epoch 3/300\n",
      "1067/1067 [==============================] - 3s 3ms/step - loss: 1.5809 - accuracy: 0.4894 - val_loss: 1.7761 - val_accuracy: 0.4294\n",
      "Epoch 4/300\n",
      "1067/1067 [==============================] - 3s 3ms/step - loss: 1.3313 - accuracy: 0.5628 - val_loss: 1.7023 - val_accuracy: 0.4792\n",
      "Epoch 5/300\n",
      "1067/1067 [==============================] - 3s 3ms/step - loss: 1.1332 - accuracy: 0.6260 - val_loss: 1.6739 - val_accuracy: 0.5003\n",
      "Epoch 6/300\n",
      "1067/1067 [==============================] - 3s 3ms/step - loss: 0.9788 - accuracy: 0.6732 - val_loss: 1.7175 - val_accuracy: 0.4989\n",
      "Epoch 7/300\n",
      "1067/1067 [==============================] - 3s 3ms/step - loss: 0.8420 - accuracy: 0.7194 - val_loss: 1.7438 - val_accuracy: 0.5063\n",
      "Epoch 8/300\n",
      "1067/1067 [==============================] - 3s 3ms/step - loss: 0.7323 - accuracy: 0.7557 - val_loss: 1.7909 - val_accuracy: 0.5240\n",
      "Epoch 9/300\n",
      "1067/1067 [==============================] - 3s 3ms/step - loss: 0.6454 - accuracy: 0.7868 - val_loss: 1.8618 - val_accuracy: 0.5240\n",
      "Epoch 10/300\n",
      "1067/1067 [==============================] - 3s 3ms/step - loss: 0.5767 - accuracy: 0.8093 - val_loss: 1.9984 - val_accuracy: 0.5103\n",
      "Epoch 11/300\n",
      "1067/1067 [==============================] - 3s 3ms/step - loss: 0.5089 - accuracy: 0.8303 - val_loss: 2.0989 - val_accuracy: 0.5203\n"
     ]
    }
   ],
   "source": [
    "history = model.fit(x_train_tf, y_train_tf, epochs=300, shuffle=True, validation_split=0.1, callbacks=[stop_early])"
   ]
  },
  {
   "cell_type": "code",
   "execution_count": 27,
   "metadata": {},
   "outputs": [
    {
     "name": "stdout",
     "output_type": "stream",
     "text": [
      "297/297 - 0s - loss: 2.0783 - accuracy: 0.5285 - 362ms/epoch - 1ms/step\n",
      "\n",
      "Test accuracy: 0.5284706950187683\n"
     ]
    }
   ],
   "source": [
    "test_loss, test_acc = model.evaluate(x_test_tf,  y_test_tf, verbose=2)\n",
    "\n",
    "print('\\nTest accuracy:', test_acc)"
   ]
  }
 ],
 "metadata": {
  "interpreter": {
   "hash": "f75cfd8d83e5e0ff5efcf80446b358d1c19dbf94fee83ea009cf8f53d56b402f"
  },
  "kernelspec": {
   "display_name": "Python 3.7.8 ('venv': venv)",
   "language": "python",
   "name": "python3"
  },
  "language_info": {
   "codemirror_mode": {
    "name": "ipython",
    "version": 3
   },
   "file_extension": ".py",
   "mimetype": "text/x-python",
   "name": "python",
   "nbconvert_exporter": "python",
   "pygments_lexer": "ipython3",
   "version": "3.10.4"
  },
  "orig_nbformat": 4
 },
 "nbformat": 4,
 "nbformat_minor": 2
}
