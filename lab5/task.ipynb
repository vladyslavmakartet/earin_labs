{
 "cells": [
  {
   "cell_type": "code",
   "execution_count": 90,
   "metadata": {},
   "outputs": [
    {
     "name": "stdout",
     "output_type": "stream",
     "text": [
      "Complete\n"
     ]
    }
   ],
   "source": [
    "import numpy as np  # linear algebra\n",
    "import pandas as pd  # data processing, CSV file I/O\n",
    "import matplotlib.pyplot as plt\n",
    "import tensorflow as tf\n",
    "\n",
    "# make a plot outputs appear and be stored within the notebook\n",
    "%matplotlib inline\n",
    "\n",
    "print(\"Complete\")"
   ]
  },
  {
   "cell_type": "code",
   "execution_count": 91,
   "metadata": {},
   "outputs": [],
   "source": [
    "LETTER_NAMES = {\n",
    "    1: \"alif\",\n",
    "    10: \"ra\",\n",
    "    11: \"zay\",\n",
    "    12: \"sin\",\n",
    "    13: \"shin\",\n",
    "    14: \"sad\",\n",
    "    15: \"dad\",\n",
    "    16: \"da\",\n",
    "    17: \"za\",\n",
    "    18: \"ayn\",\n",
    "    19: \"gayn\",\n",
    "    2: \"ba\",\n",
    "    20: \"fa\",\n",
    "    21: \"qaf\",\n",
    "    22: \"kaf\",\n",
    "    23: \"lam\",\n",
    "    24: \"mim\",\n",
    "    25: \"non\",\n",
    "    26: \"ha\",\n",
    "    27: \"waw\",\n",
    "    28: \"ya\",\n",
    "    29: \"hamza\",\n",
    "    3: \"ta\",\n",
    "    4: \"tha\",\n",
    "    5: \"gim\",\n",
    "    6: \"ha\",\n",
    "    7: \"kha\",\n",
    "    8: \"dal\",\n",
    "    9: \"thal\"\n",
    "}"
   ]
  },
  {
   "cell_type": "code",
   "execution_count": 92,
   "metadata": {},
   "outputs": [],
   "source": [
    "x_train = pd.read_csv(\"./X_train.csv\")\n",
    "y_train = pd.read_csv(\"./y_train.csv\")"
   ]
  },
  {
   "cell_type": "code",
   "execution_count": 93,
   "metadata": {},
   "outputs": [
    {
     "name": "stdout",
     "output_type": "stream",
     "text": [
      "Index(['pixel0', 'pixel1', 'pixel2', 'pixel3', 'pixel4', 'pixel5', 'pixel6',\n",
      "       'pixel7', 'pixel8', 'pixel9',\n",
      "       ...\n",
      "       'pixel1014', 'pixel1015', 'pixel1016', 'pixel1017', 'pixel1018',\n",
      "       'pixel1019', 'pixel1020', 'pixel1021', 'pixel1022', 'pixel1023'],\n",
      "      dtype='object', length=1024)\n",
      "Index(['label'], dtype='object')\n"
     ]
    }
   ],
   "source": [
    "print(x_train.columns)\n",
    "print(y_train.columns)\n",
    "assert len(x_train) == len(y_train)"
   ]
  },
  {
   "cell_type": "code",
   "execution_count": 94,
   "metadata": {},
   "outputs": [
    {
     "name": "stdout",
     "output_type": "stream",
     "text": [
      "<class 'pandas.core.frame.DataFrame'>\n",
      "RangeIndex: 37933 entries, 0 to 37932\n",
      "Columns: 1024 entries, pixel0 to pixel1023\n",
      "dtypes: int64(1024)\n",
      "memory usage: 296.4 MB\n"
     ]
    }
   ],
   "source": [
    "x_train.info()"
   ]
  },
  {
   "cell_type": "code",
   "execution_count": 95,
   "metadata": {},
   "outputs": [
    {
     "name": "stdout",
     "output_type": "stream",
     "text": [
      "<class 'pandas.core.frame.DataFrame'>\n",
      "RangeIndex: 37933 entries, 0 to 37932\n",
      "Data columns (total 1 columns):\n",
      " #   Column  Non-Null Count  Dtype\n",
      "---  ------  --------------  -----\n",
      " 0   label   37933 non-null  int64\n",
      "dtypes: int64(1)\n",
      "memory usage: 296.5 KB\n"
     ]
    }
   ],
   "source": [
    "y_train.info()"
   ]
  },
  {
   "cell_type": "markdown",
   "metadata": {},
   "source": [
    "### Distributions"
   ]
  },
  {
   "cell_type": "code",
   "execution_count": 96,
   "metadata": {},
   "outputs": [
    {
     "data": {
      "text/plain": [
       "<AxesSubplot:>"
      ]
     },
     "execution_count": 96,
     "metadata": {},
     "output_type": "execute_result"
    },
    {
     "data": {
      "image/png": "[encoded data removed]",
      "text/plain": [
       "<Figure size 720x504 with 1 Axes>"
      ]
     },
     "metadata": {
      "needs_background": "light"
     },
     "output_type": "display_data"
    }
   ],
   "source": [
    "plt.figure(figsize=(10,7))\n",
    "y_train['label'].value_counts().plot(kind=\"bar\")"
   ]
  },
  {
   "cell_type": "code",
   "execution_count": 97,
   "metadata": {},
   "outputs": [
    {
     "data": {
      "text/plain": [
       "255"
      ]
     },
     "execution_count": 97,
     "metadata": {},
     "output_type": "execute_result"
    }
   ],
   "source": [
    "max([x_train[column].max() for column in x_train.columns] )"
   ]
  },
  {
   "cell_type": "markdown",
   "metadata": {},
   "source": [
    "So each pixel takes value 0-255"
   ]
  },
  {
   "cell_type": "markdown",
   "metadata": {},
   "source": [
    "### Checking pc config"
   ]
  },
  {
   "cell_type": "code",
   "execution_count": 98,
   "metadata": {},
   "outputs": [
    {
     "name": "stdout",
     "output_type": "stream",
     "text": [
      "Num GPUs Available:  0\n"
     ]
    }
   ],
   "source": [
    "print(\"Num GPUs Available: \", len(tf.config.list_physical_devices('GPU')))"
   ]
  },
  {
   "cell_type": "markdown",
   "metadata": {},
   "source": [
    "### Changing data format to compatible with tf training"
   ]
  },
  {
   "cell_type": "code",
   "execution_count": 99,
   "metadata": {},
   "outputs": [
    {
     "data": {
      "text/plain": [
       "<tf.Tensor: shape=(37933, 1024), dtype=float64, numpy=\n",
       "array([[0.        , 0.        , 0.        , ..., 0.        , 0.01568627,\n",
       "        0.02352941],\n",
       "       [0.        , 0.        , 0.        , ..., 0.        , 0.        ,\n",
       "        0.        ],\n",
       "       [0.        , 0.        , 0.        , ..., 0.        , 0.        ,\n",
       "        0.        ],\n",
       "       ...,\n",
       "       [0.        , 0.        , 0.        , ..., 0.        , 0.        ,\n",
       "        0.        ],\n",
       "       [0.01176471, 0.04313725, 0.        , ..., 0.        , 0.        ,\n",
       "        0.        ],\n",
       "       [0.        , 0.        , 0.        , ..., 0.        , 0.        ,\n",
       "        0.        ]])>"
      ]
     },
     "execution_count": 99,
     "metadata": {},
     "output_type": "execute_result"
    }
   ],
   "source": [
    "x_train_tf = tf.convert_to_tensor(x_train)\n",
    "x_train_tf = x_train_tf / 255 # normalisation from 0 - 255 to 0 - 1\n",
    "x_train_tf"
   ]
  },
  {
   "cell_type": "markdown",
   "metadata": {},
   "source": [
    "### Test data\n",
    "For assessing accuracy, loss, etc"
   ]
  },
  {
   "cell_type": "code",
   "execution_count": 100,
   "metadata": {},
   "outputs": [],
   "source": [
    "x_test = pd.read_csv(\"./X_test.csv\")\n",
    "y_test = pd.read_csv(\"./y_test.csv\")"
   ]
  },
  {
   "cell_type": "code",
   "execution_count": 101,
   "metadata": {},
   "outputs": [
    {
     "data": {
      "text/html": [
       "<div>\n",
       "<style scoped>\n",
       "    .dataframe tbody tr th:only-of-type {\n",
       "        vertical-align: middle;\n",
       "    }\n",
       "\n",
       "    .dataframe tbody tr th {\n",
       "        vertical-align: top;\n",
       "    }\n",
       "\n",
       "    .dataframe thead th {\n",
       "        text-align: right;\n",
       "    }\n",
       "</style>\n",
       "<table border=\"1\" class=\"dataframe\">\n",
       "  <thead>\n",
       "    <tr style=\"text-align: right;\">\n",
       "      <th></th>\n",
       "      <th>label</th>\n",
       "    </tr>\n",
       "  </thead>\n",
       "  <tbody>\n",
       "    <tr>\n",
       "      <th>0</th>\n",
       "      <td>0</td>\n",
       "    </tr>\n",
       "    <tr>\n",
       "      <th>1</th>\n",
       "      <td>0</td>\n",
       "    </tr>\n",
       "    <tr>\n",
       "      <th>2</th>\n",
       "      <td>0</td>\n",
       "    </tr>\n",
       "    <tr>\n",
       "      <th>3</th>\n",
       "      <td>0</td>\n",
       "    </tr>\n",
       "    <tr>\n",
       "      <th>4</th>\n",
       "      <td>0</td>\n",
       "    </tr>\n",
       "    <tr>\n",
       "      <th>...</th>\n",
       "      <td>...</td>\n",
       "    </tr>\n",
       "    <tr>\n",
       "      <th>9496</th>\n",
       "      <td>28</td>\n",
       "    </tr>\n",
       "    <tr>\n",
       "      <th>9497</th>\n",
       "      <td>28</td>\n",
       "    </tr>\n",
       "    <tr>\n",
       "      <th>9498</th>\n",
       "      <td>28</td>\n",
       "    </tr>\n",
       "    <tr>\n",
       "      <th>9499</th>\n",
       "      <td>28</td>\n",
       "    </tr>\n",
       "    <tr>\n",
       "      <th>9500</th>\n",
       "      <td>28</td>\n",
       "    </tr>\n",
       "  </tbody>\n",
       "</table>\n",
       "<p>9501 rows × 1 columns</p>\n",
       "</div>"
      ],
      "text/plain": [
       "      label\n",
       "0         0\n",
       "1         0\n",
       "2         0\n",
       "3         0\n",
       "4         0\n",
       "...     ...\n",
       "9496     28\n",
       "9497     28\n",
       "9498     28\n",
       "9499     28\n",
       "9500     28\n",
       "\n",
       "[9501 rows x 1 columns]"
      ]
     },
     "execution_count": 101,
     "metadata": {},
     "output_type": "execute_result"
    }
   ],
   "source": [
    "x_test_tf = tf.convert_to_tensor(x_test)\n",
    "x_test_tf = x_test_tf / 255 # normalisation from 0 - 255 to 0 - 1\n",
    "y_test_tf = y_test - 1\n",
    "y_test_tf"
   ]
  },
  {
   "cell_type": "markdown",
   "metadata": {},
   "source": [
    "### TF model"
   ]
  },
  {
   "cell_type": "code",
   "execution_count": 102,
   "metadata": {},
   "outputs": [
    {
     "data": {
      "text/html": [
       "<div>\n",
       "<style scoped>\n",
       "    .dataframe tbody tr th:only-of-type {\n",
       "        vertical-align: middle;\n",
       "    }\n",
       "\n",
       "    .dataframe tbody tr th {\n",
       "        vertical-align: top;\n",
       "    }\n",
       "\n",
       "    .dataframe thead th {\n",
       "        text-align: right;\n",
       "    }\n",
       "</style>\n",
       "<table border=\"1\" class=\"dataframe\">\n",
       "  <thead>\n",
       "    <tr style=\"text-align: right;\">\n",
       "      <th></th>\n",
       "      <th>label</th>\n",
       "    </tr>\n",
       "  </thead>\n",
       "  <tbody>\n",
       "    <tr>\n",
       "      <th>0</th>\n",
       "      <td>0</td>\n",
       "    </tr>\n",
       "    <tr>\n",
       "      <th>1</th>\n",
       "      <td>0</td>\n",
       "    </tr>\n",
       "    <tr>\n",
       "      <th>2</th>\n",
       "      <td>0</td>\n",
       "    </tr>\n",
       "    <tr>\n",
       "      <th>3</th>\n",
       "      <td>0</td>\n",
       "    </tr>\n",
       "    <tr>\n",
       "      <th>4</th>\n",
       "      <td>0</td>\n",
       "    </tr>\n",
       "    <tr>\n",
       "      <th>...</th>\n",
       "      <td>...</td>\n",
       "    </tr>\n",
       "    <tr>\n",
       "      <th>37928</th>\n",
       "      <td>28</td>\n",
       "    </tr>\n",
       "    <tr>\n",
       "      <th>37929</th>\n",
       "      <td>28</td>\n",
       "    </tr>\n",
       "    <tr>\n",
       "      <th>37930</th>\n",
       "      <td>28</td>\n",
       "    </tr>\n",
       "    <tr>\n",
       "      <th>37931</th>\n",
       "      <td>28</td>\n",
       "    </tr>\n",
       "    <tr>\n",
       "      <th>37932</th>\n",
       "      <td>28</td>\n",
       "    </tr>\n",
       "  </tbody>\n",
       "</table>\n",
       "<p>37933 rows × 1 columns</p>\n",
       "</div>"
      ],
      "text/plain": [
       "       label\n",
       "0          0\n",
       "1          0\n",
       "2          0\n",
       "3          0\n",
       "4          0\n",
       "...      ...\n",
       "37928     28\n",
       "37929     28\n",
       "37930     28\n",
       "37931     28\n",
       "37932     28\n",
       "\n",
       "[37933 rows x 1 columns]"
      ]
     },
     "execution_count": 102,
     "metadata": {},
     "output_type": "execute_result"
    }
   ],
   "source": [
    "y_train_tf = y_train - 1\n",
    "y_train_tf"
   ]
  },
  {
   "cell_type": "code",
   "execution_count": 103,
   "metadata": {},
   "outputs": [],
   "source": [
    "stop_early = tf.keras.callbacks.EarlyStopping(monitor='loss', patience=5)"
   ]
  },
  {
   "cell_type": "code",
   "execution_count": 116,
   "metadata": {},
   "outputs": [],
   "source": [
    "model = tf.keras.Sequential([\n",
    "    tf.keras.layers.InputLayer(input_shape=1024),\n",
    "    tf.keras.layers.Dense(256, activation='relu'),\n",
    "    tf.keras.layers.Dense(100, activation='relu'),\n",
    "    tf.keras.layers.Dense(30, activation='relu'),\n",
    "    tf.keras.layers.Dense(29)\n",
    "])\n",
    "\n",
    "model.compile(optimizer='adam',\n",
    "    loss=tf.keras.losses.SparseCategoricalCrossentropy(from_logits=True),\n",
    "    metrics=['accuracy'])"
   ]
  },
  {
   "cell_type": "markdown",
   "metadata": {},
   "source": [
    "#### Accuracy at which model stops learning\n",
    "##### Relu\n",
    "256,75,30 50%\\\n",
    "100,50,30 43%"
   ]
  },
  {
   "cell_type": "code",
   "execution_count": 117,
   "metadata": {},
   "outputs": [
    {
     "name": "stdout",
     "output_type": "stream",
     "text": [
      "Epoch 1/100\n",
      "1186/1186 [==============================] - 8s 6ms/step - loss: 2.6651 - accuracy: 0.2278\n",
      "Epoch 2/100\n",
      "1186/1186 [==============================] - 7s 6ms/step - loss: 1.9418 - accuracy: 0.4025\n",
      "Epoch 3/100\n",
      "1186/1186 [==============================] - 7s 6ms/step - loss: 1.5994 - accuracy: 0.4975\n",
      "Epoch 4/100\n",
      "1186/1186 [==============================] - 7s 6ms/step - loss: 1.3593 - accuracy: 0.5681\n",
      "Epoch 5/100\n",
      "1186/1186 [==============================] - 7s 6ms/step - loss: 1.1807 - accuracy: 0.6199\n",
      "Epoch 6/100\n",
      "1186/1186 [==============================] - 7s 6ms/step - loss: 1.0410 - accuracy: 0.6633\n",
      "Epoch 7/100\n",
      "1186/1186 [==============================] - 8s 6ms/step - loss: 0.9262 - accuracy: 0.6997\n",
      "Epoch 8/100\n",
      "1186/1186 [==============================] - 8s 6ms/step - loss: 0.8289 - accuracy: 0.7290\n",
      "Epoch 9/100\n",
      "1186/1186 [==============================] - 8s 6ms/step - loss: 0.7451 - accuracy: 0.7557\n",
      "Epoch 10/100\n",
      "1186/1186 [==============================] - 8s 7ms/step - loss: 0.6732 - accuracy: 0.7802\n",
      "Epoch 11/100\n",
      "1186/1186 [==============================] - 8s 6ms/step - loss: 0.6137 - accuracy: 0.7969\n",
      "Epoch 12/100\n",
      "1186/1186 [==============================] - 8s 7ms/step - loss: 0.5566 - accuracy: 0.8166\n",
      "Epoch 13/100\n",
      "1186/1186 [==============================] - 8s 7ms/step - loss: 0.5099 - accuracy: 0.8290\n",
      "Epoch 14/100\n",
      "1186/1186 [==============================] - 8s 7ms/step - loss: 0.4661 - accuracy: 0.8453\n",
      "Epoch 15/100\n",
      "1186/1186 [==============================] - 8s 7ms/step - loss: 0.4290 - accuracy: 0.8581\n",
      "Epoch 16/100\n",
      "1186/1186 [==============================] - 8s 7ms/step - loss: 0.3966 - accuracy: 0.8677\n",
      "Epoch 17/100\n",
      "1186/1186 [==============================] - 8s 7ms/step - loss: 0.3668 - accuracy: 0.8777\n",
      "Epoch 18/100\n",
      "1186/1186 [==============================] - 8s 7ms/step - loss: 0.3410 - accuracy: 0.8855\n",
      "Epoch 19/100\n",
      "1186/1186 [==============================] - 8s 6ms/step - loss: 0.3202 - accuracy: 0.8932\n",
      "Epoch 20/100\n",
      "1186/1186 [==============================] - 8s 7ms/step - loss: 0.2956 - accuracy: 0.8997\n",
      "Epoch 21/100\n",
      "1186/1186 [==============================] - 8s 7ms/step - loss: 0.2816 - accuracy: 0.9056\n",
      "Epoch 22/100\n",
      "1186/1186 [==============================] - 8s 7ms/step - loss: 0.2691 - accuracy: 0.9082\n",
      "Epoch 23/100\n",
      "1186/1186 [==============================] - 8s 7ms/step - loss: 0.2430 - accuracy: 0.9174\n",
      "Epoch 24/100\n",
      "1186/1186 [==============================] - 8s 7ms/step - loss: 0.2379 - accuracy: 0.9181\n",
      "Epoch 25/100\n",
      "1186/1186 [==============================] - 8s 7ms/step - loss: 0.2133 - accuracy: 0.9272\n",
      "Epoch 26/100\n",
      "1186/1186 [==============================] - 8s 7ms/step - loss: 0.2125 - accuracy: 0.9263\n",
      "Epoch 27/100\n",
      "1186/1186 [==============================] - 8s 7ms/step - loss: 0.2024 - accuracy: 0.9310\n",
      "Epoch 28/100\n",
      "1186/1186 [==============================] - 8s 7ms/step - loss: 0.2011 - accuracy: 0.9311\n",
      "Epoch 29/100\n",
      "1186/1186 [==============================] - 8s 6ms/step - loss: 0.1869 - accuracy: 0.9362\n",
      "Epoch 30/100\n",
      "1186/1186 [==============================] - 8s 7ms/step - loss: 0.1776 - accuracy: 0.9396\n",
      "Epoch 31/100\n",
      "1186/1186 [==============================] - 8s 7ms/step - loss: 0.1832 - accuracy: 0.9368\n",
      "Epoch 32/100\n",
      "1186/1186 [==============================] - 8s 7ms/step - loss: 0.1593 - accuracy: 0.9460\n",
      "Epoch 33/100\n",
      "1186/1186 [==============================] - 8s 7ms/step - loss: 0.1625 - accuracy: 0.9450\n",
      "Epoch 34/100\n",
      "1186/1186 [==============================] - 8s 7ms/step - loss: 0.1586 - accuracy: 0.9459\n",
      "Epoch 35/100\n",
      "1186/1186 [==============================] - 8s 7ms/step - loss: 0.1450 - accuracy: 0.9512\n",
      "Epoch 36/100\n",
      "1186/1186 [==============================] - 8s 7ms/step - loss: 0.1641 - accuracy: 0.9443\n",
      "Epoch 37/100\n",
      "1186/1186 [==============================] - 8s 7ms/step - loss: 0.1420 - accuracy: 0.9530\n",
      "Epoch 38/100\n",
      "1186/1186 [==============================] - 8s 7ms/step - loss: 0.1329 - accuracy: 0.9544\n",
      "Epoch 39/100\n",
      "1186/1186 [==============================] - 8s 7ms/step - loss: 0.1358 - accuracy: 0.9538\n",
      "Epoch 40/100\n",
      "1186/1186 [==============================] - 8s 7ms/step - loss: 0.1375 - accuracy: 0.9546\n",
      "Epoch 41/100\n",
      "1186/1186 [==============================] - 8s 7ms/step - loss: 0.1292 - accuracy: 0.9545\n",
      "Epoch 42/100\n",
      "1186/1186 [==============================] - 8s 7ms/step - loss: 0.1389 - accuracy: 0.9549\n",
      "Epoch 43/100\n",
      "1186/1186 [==============================] - 8s 7ms/step - loss: 0.1172 - accuracy: 0.9596\n",
      "Epoch 44/100\n",
      "1186/1186 [==============================] - 8s 7ms/step - loss: 0.1239 - accuracy: 0.9579\n",
      "Epoch 45/100\n",
      "1186/1186 [==============================] - 8s 7ms/step - loss: 0.1205 - accuracy: 0.9602\n",
      "Epoch 46/100\n",
      "1186/1186 [==============================] - 8s 7ms/step - loss: 0.1171 - accuracy: 0.9609\n",
      "Epoch 47/100\n",
      "1186/1186 [==============================] - 8s 7ms/step - loss: 0.1149 - accuracy: 0.9626\n",
      "Epoch 48/100\n",
      "1186/1186 [==============================] - 8s 7ms/step - loss: 0.1276 - accuracy: 0.9578\n",
      "Epoch 49/100\n",
      "1186/1186 [==============================] - 8s 6ms/step - loss: 0.1092 - accuracy: 0.9630\n",
      "Epoch 50/100\n",
      "1186/1186 [==============================] - 8s 6ms/step - loss: 0.1164 - accuracy: 0.9620\n",
      "Epoch 51/100\n",
      "1186/1186 [==============================] - 8s 7ms/step - loss: 0.1162 - accuracy: 0.9606\n",
      "Epoch 52/100\n",
      "1186/1186 [==============================] - 8s 7ms/step - loss: 0.1086 - accuracy: 0.9635\n",
      "Epoch 53/100\n",
      "1186/1186 [==============================] - 8s 6ms/step - loss: 0.1061 - accuracy: 0.9646\n",
      "Epoch 54/100\n",
      "1186/1186 [==============================] - 8s 6ms/step - loss: 0.1060 - accuracy: 0.9648\n",
      "Epoch 55/100\n",
      "1186/1186 [==============================] - 8s 7ms/step - loss: 0.1031 - accuracy: 0.9652\n",
      "Epoch 56/100\n",
      "1186/1186 [==============================] - 8s 6ms/step - loss: 0.1030 - accuracy: 0.9655\n",
      "Epoch 57/100\n",
      "1186/1186 [==============================] - 8s 7ms/step - loss: 0.1018 - accuracy: 0.9665\n",
      "Epoch 58/100\n",
      "1186/1186 [==============================] - 8s 7ms/step - loss: 0.1058 - accuracy: 0.9655\n",
      "Epoch 59/100\n",
      "1186/1186 [==============================] - 8s 6ms/step - loss: 0.0980 - accuracy: 0.9680\n",
      "Epoch 60/100\n",
      "1186/1186 [==============================] - 8s 7ms/step - loss: 0.0978 - accuracy: 0.9675\n",
      "Epoch 61/100\n",
      "1186/1186 [==============================] - 8s 7ms/step - loss: 0.0847 - accuracy: 0.9727\n",
      "Epoch 62/100\n",
      "1186/1186 [==============================] - 8s 6ms/step - loss: 0.1209 - accuracy: 0.9612\n",
      "Epoch 63/100\n",
      "1186/1186 [==============================] - 8s 7ms/step - loss: 0.0899 - accuracy: 0.9706\n",
      "Epoch 64/100\n",
      "1186/1186 [==============================] - 9s 7ms/step - loss: 0.0867 - accuracy: 0.9719\n",
      "Epoch 65/100\n",
      "1186/1186 [==============================] - 8s 7ms/step - loss: 0.0967 - accuracy: 0.9680\n",
      "Epoch 66/100\n",
      "1186/1186 [==============================] - 8s 7ms/step - loss: 0.0986 - accuracy: 0.9681\n"
     ]
    },
    {
     "data": {
      "text/plain": [
       "<keras.callbacks.History at 0x23ad97bc988>"
      ]
     },
     "execution_count": 117,
     "metadata": {},
     "output_type": "execute_result"
    }
   ],
   "source": [
    "model.fit(x_train_tf, y_train_tf, epochs=100, callbacks=[stop_early])\n"
   ]
  },
  {
   "cell_type": "code",
   "execution_count": 118,
   "metadata": {},
   "outputs": [
    {
     "name": "stdout",
     "output_type": "stream",
     "text": [
      "297/297 - 1s - loss: 6.0990 - accuracy: 0.5124 - 952ms/epoch - 3ms/step\n",
      "\n",
      "Test accuracy: 0.5123671293258667\n"
     ]
    }
   ],
   "source": [
    "test_loss, test_acc = model.evaluate(x_test_tf,  y_test_tf, verbose=2)\n",
    "\n",
    "print('\\nTest accuracy:', test_acc)"
   ]
  }
 ],
 "metadata": {
  "interpreter": {
   "hash": "f75cfd8d83e5e0ff5efcf80446b358d1c19dbf94fee83ea009cf8f53d56b402f"
  },
  "kernelspec": {
   "display_name": "Python 3.7.8 ('venv': venv)",
   "language": "python",
   "name": "python3"
  },
  "language_info": {
   "codemirror_mode": {
    "name": "ipython",
    "version": 3
   },
   "file_extension": ".py",
   "mimetype": "text/x-python",
   "name": "python",
   "nbconvert_exporter": "python",
   "pygments_lexer": "ipython3",
   "version": "3.7.8"
  },
  "orig_nbformat": 4
 },
 "nbformat": 4,
 "nbformat_minor": 2
}
