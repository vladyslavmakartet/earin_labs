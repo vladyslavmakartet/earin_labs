{
 "cells": [
  {
   "cell_type": "code",
   "execution_count": 1,
   "metadata": {},
   "outputs": [],
   "source": [
    "import pandas as pd\n",
    "import numpy as np\n",
    "import bnlearn as bn"
   ]
  },
  {
   "cell_type": "markdown",
   "metadata": {},
   "source": [
    "Data analysis and preparation"
   ]
  },
  {
   "cell_type": "code",
   "execution_count": 2,
   "metadata": {},
   "outputs": [],
   "source": [
    "training_set = pd.read_csv(\"Training.csv\")"
   ]
  },
  {
   "cell_type": "code",
   "execution_count": 3,
   "metadata": {},
   "outputs": [
    {
     "name": "stdout",
     "output_type": "stream",
     "text": [
      "Index(['itching', 'skin_rash', 'nodal_skin_eruptions', 'continuous_sneezing',\n",
      "       'shivering', 'chills', 'joint_pain', 'stomach_pain', 'acidity',\n",
      "       'ulcers_on_tongue',\n",
      "       ...\n",
      "       'blackheads', 'scurring', 'skin_peeling', 'silver_like_dusting',\n",
      "       'small_dents_in_nails', 'inflammatory_nails', 'blister',\n",
      "       'red_sore_around_nose', 'yellow_crust_ooze', 'prognosis'],\n",
      "      dtype='object', length=133)\n"
     ]
    }
   ],
   "source": [
    "print(training_set.columns)"
   ]
  },
  {
   "cell_type": "code",
   "execution_count": 4,
   "metadata": {},
   "outputs": [
    {
     "name": "stdout",
     "output_type": "stream",
     "text": [
      "<class 'pandas.core.frame.DataFrame'>\n",
      "RangeIndex: 4920 entries, 0 to 4919\n",
      "Columns: 133 entries, itching to prognosis\n",
      "dtypes: int64(132), object(1)\n",
      "memory usage: 5.0+ MB\n"
     ]
    }
   ],
   "source": [
    "training_set.info()"
   ]
  },
  {
   "cell_type": "code",
   "execution_count": 5,
   "metadata": {},
   "outputs": [
    {
     "name": "stdout",
     "output_type": "stream",
     "text": [
      "   itching  skin_rash  nodal_skin_eruptions  continuous_sneezing  shivering  \\\n",
      "0        1          1                     1                    0          0   \n",
      "1        0          1                     1                    0          0   \n",
      "2        1          0                     1                    0          0   \n",
      "3        1          1                     0                    0          0   \n",
      "4        1          1                     1                    0          0   \n",
      "5        0          1                     1                    0          0   \n",
      "6        1          0                     1                    0          0   \n",
      "7        1          1                     0                    0          0   \n",
      "8        1          1                     1                    0          0   \n",
      "9        1          1                     1                    0          0   \n",
      "\n",
      "   chills  joint_pain  stomach_pain  acidity  ulcers_on_tongue  ...  \\\n",
      "0       0           0             0        0                 0  ...   \n",
      "1       0           0             0        0                 0  ...   \n",
      "2       0           0             0        0                 0  ...   \n",
      "3       0           0             0        0                 0  ...   \n",
      "4       0           0             0        0                 0  ...   \n",
      "5       0           0             0        0                 0  ...   \n",
      "6       0           0             0        0                 0  ...   \n",
      "7       0           0             0        0                 0  ...   \n",
      "8       0           0             0        0                 0  ...   \n",
      "9       0           0             0        0                 0  ...   \n",
      "\n",
      "   blackheads  scurring  skin_peeling  silver_like_dusting  \\\n",
      "0           0         0             0                    0   \n",
      "1           0         0             0                    0   \n",
      "2           0         0             0                    0   \n",
      "3           0         0             0                    0   \n",
      "4           0         0             0                    0   \n",
      "5           0         0             0                    0   \n",
      "6           0         0             0                    0   \n",
      "7           0         0             0                    0   \n",
      "8           0         0             0                    0   \n",
      "9           0         0             0                    0   \n",
      "\n",
      "   small_dents_in_nails  inflammatory_nails  blister  red_sore_around_nose  \\\n",
      "0                     0                   0        0                     0   \n",
      "1                     0                   0        0                     0   \n",
      "2                     0                   0        0                     0   \n",
      "3                     0                   0        0                     0   \n",
      "4                     0                   0        0                     0   \n",
      "5                     0                   0        0                     0   \n",
      "6                     0                   0        0                     0   \n",
      "7                     0                   0        0                     0   \n",
      "8                     0                   0        0                     0   \n",
      "9                     0                   0        0                     0   \n",
      "\n",
      "   yellow_crust_ooze         prognosis  \n",
      "0                  0  Fungal infection  \n",
      "1                  0  Fungal infection  \n",
      "2                  0  Fungal infection  \n",
      "3                  0  Fungal infection  \n",
      "4                  0  Fungal infection  \n",
      "5                  0  Fungal infection  \n",
      "6                  0  Fungal infection  \n",
      "7                  0  Fungal infection  \n",
      "8                  0  Fungal infection  \n",
      "9                  0  Fungal infection  \n",
      "\n",
      "[10 rows x 133 columns]\n"
     ]
    }
   ],
   "source": [
    "print(training_set[:10])"
   ]
  },
  {
   "cell_type": "code",
   "execution_count": 6,
   "metadata": {},
   "outputs": [
    {
     "name": "stdout",
     "output_type": "stream",
     "text": [
      "['Osteoarthristis', 'Arthritis', 'Peptic ulcer diseae', 'Hyperthyroidism', 'Typhoid', 'Gastroenteritis', 'Chronic cholestasis', 'Diabetes ', '(vertigo) Paroymsal  Positional Vertigo', 'GERD', 'Impetigo', 'Tuberculosis', 'Hypoglycemia', 'Pneumonia', 'Paralysis (brain hemorrhage)', 'Allergy', 'Heart attack', 'Acne', 'Drug Reaction', 'Fungal infection', 'Chicken pox', 'Dengue', 'Urinary tract infection', 'Migraine', 'Varicose veins', 'Psoriasis', 'AIDS', 'hepatitis A', 'Hepatitis B', 'Common Cold', 'Cervical spondylosis', 'Jaundice', 'Hepatitis D', 'Malaria', 'Hypertension ', 'Hepatitis C', 'Alcoholic hepatitis', 'Hypothyroidism', 'Hepatitis E', 'Dimorphic hemmorhoids(piles)', 'Bronchial Asthma']\n"
     ]
    }
   ],
   "source": [
    "print(list(set(training_set['prognosis'].values)))"
   ]
  },
  {
   "cell_type": "code",
   "execution_count": 7,
   "metadata": {},
   "outputs": [
    {
     "name": "stdout",
     "output_type": "stream",
     "text": [
      "[bnlearn] >Computing best DAG using [hc]\n",
      "[bnlearn] >Set scoring type at [bic]\n"
     ]
    }
   ],
   "source": [
    "model = bn.structure_learning.fit(training_set)"
   ]
  },
  {
   "cell_type": "code",
   "execution_count": 9,
   "metadata": {},
   "outputs": [
    {
     "name": "stdout",
     "output_type": "stream",
     "text": [
      "{'model': <pgmpy.base.DAG.DAG object at 0x000001620E697E20>, 'model_edges': [('itching', 'continuous_feel_of_urine'), ('itching', 'nodal_skin_eruptions'), ('skin_rash', 'scurring'), ('skin_rash', 'red_sore_around_nose'), ('continuous_sneezing', 'watering_from_eyes'), ('shivering', 'watering_from_eyes'), ('chills', 'pain_in_anal_region'), ('joint_pain', 'hip_joint_pain'), ('joint_pain', 'skin_peeling'), ('stomach_pain', 'ulcers_on_tongue'), ('acidity', 'ulcers_on_tongue'), ('muscle_wasting', 'patches_in_throat'), ('vomiting', 'unsteadiness'), ('burning_micturition', 'continuous_feel_of_urine'), ('fatigue', 'muscle_wasting'), ('mood_swings', 'abnormal_menstruation'), ('cough', 'ulcers_on_tongue'), ('high_fever', 'muscle_wasting'), ('sunken_eyes', 'dehydration'), ('indigestion', 'passage_of_gases'), ('headache', 'pain_behind_the_eyes'), ('headache', 'altered_sensorium'), ('yellowish_skin', 'history_of_alcohol_consumption'), ('nausea', 'belly_pain'), ('loss_of_appetite', 'prognosis'), ('loss_of_appetite', 'passage_of_gases'), ('back_pain', 'pain_behind_the_eyes'), ('back_pain', 'weakness_in_limbs'), ('constipation', 'belly_pain'), ('constipation', 'pain_in_anal_region'), ('diarrhoea', 'dehydration'), ('blurred_and_distorted_vision', 'abnormal_menstruation'), ('throat_irritation', 'runny_nose'), ('redness_of_eyes', 'loss_of_smell'), ('redness_of_eyes', 'sinus_pressure'), ('redness_of_eyes', 'congestion'), ('runny_nose', 'redness_of_eyes'), ('runny_nose', 'watering_from_eyes'), ('fast_heart_rate', 'rusty_sputum'), ('pain_in_anal_region', 'bloody_stool'), ('pain_in_anal_region', 'pain_during_bowel_movements'), ('bloody_stool', 'pain_during_bowel_movements'), ('irritation_in_anus', 'pain_in_anal_region'), ('irritation_in_anus', 'bloody_stool'), ('neck_pain', 'weakness_in_limbs'), ('neck_pain', 'hip_joint_pain'), ('dizziness', 'weakness_in_limbs'), ('cramps', 'prominent_veins_on_calf'), ('cramps', 'swollen_legs'), ('obesity', 'swollen_blood_vessels'), ('obesity', 'cramps'), ('swollen_legs', 'bruising'), ('swollen_blood_vessels', 'cramps'), ('swollen_blood_vessels', 'swollen_legs'), ('swollen_blood_vessels', 'prominent_veins_on_calf'), ('swollen_blood_vessels', 'bruising'), ('enlarged_thyroid', 'swollen_extremeties'), ('brittle_nails', 'weight_gain'), ('brittle_nails', 'cold_hands_and_feets'), ('brittle_nails', 'puffy_face_and_eyes'), ('swollen_extremeties', 'brittle_nails'), ('extra_marital_contacts', 'muscle_wasting'), ('extra_marital_contacts', 'patches_in_throat'), ('slurred_speech', 'anxiety'), ('slurred_speech', 'drying_and_tingling_lips'), ('knee_pain', 'hip_joint_pain'), ('hip_joint_pain', 'painful_walking'), ('swelling_joints', 'painful_walking'), ('movement_stiffness', 'painful_walking'), ('spinning_movements', 'unsteadiness'), ('loss_of_balance', 'unsteadiness'), ('weakness_of_one_body_side', 'altered_sensorium'), ('foul_smell_of urine', 'continuous_feel_of_urine'), ('foul_smell_of urine', 'bladder_discomfort'), ('continuous_feel_of_urine', 'bladder_discomfort'), ('internal_itching', 'passage_of_gases'), ('toxic_look_(typhos)', 'belly_pain'), ('depression', 'enlarged_thyroid'), ('irritability', 'abnormal_menstruation'), ('abnormal_menstruation', 'enlarged_thyroid'), ('abnormal_menstruation', 'rusty_sputum'), ('dischromic _patches', 'nodal_skin_eruptions'), ('increased_appetite', 'irregular_sugar_level'), ('increased_appetite', 'swollen_blood_vessels'), ('polyuria', 'increased_appetite'), ('polyuria', 'cramps'), ('receiving_unsterile_injections', 'receiving_blood_transfusion'), ('receiving_unsterile_injections', 'yellow_urine'), ('stomach_bleeding', 'coma'), ('stomach_bleeding', 'acute_liver_failure'), ('distention_of_abdomen', 'history_of_alcohol_consumption'), ('distention_of_abdomen', 'swelling_of_stomach'), ('distention_of_abdomen', 'fluid_overload.1'), ('history_of_alcohol_consumption', 'swelling_of_stomach'), ('history_of_alcohol_consumption', 'fluid_overload.1'), ('palpitations', 'slurred_speech'), ('pus_filled_pimples', 'scurring'), ('pus_filled_pimples', 'blackheads'), ('scurring', 'blackheads'), ('skin_peeling', 'inflammatory_nails'), ('skin_peeling', 'small_dents_in_nails'), ('silver_like_dusting', 'skin_peeling'), ('silver_like_dusting', 'inflammatory_nails'), ('inflammatory_nails', 'small_dents_in_nails'), ('red_sore_around_nose', 'blister'), ('yellow_crust_ooze', 'red_sore_around_nose'), ('yellow_crust_ooze', 'blister'), ('prognosis', 'fatigue'), ('prognosis', 'vomiting'), ('prognosis', 'high_fever'), ('prognosis', 'nausea'), ('prognosis', 'headache'), ('prognosis', 'abdominal_pain'), ('prognosis', 'yellowish_skin'), ('prognosis', 'yellowing_of_eyes'), ('prognosis', 'chills'), ('prognosis', 'skin_rash'), ('prognosis', 'malaise'), ('prognosis', 'chest_pain'), ('prognosis', 'joint_pain'), ('prognosis', 'sweating'), ('prognosis', 'itching'), ('prognosis', 'dark_urine'), ('prognosis', 'cough'), ('prognosis', 'diarrhoea'), ('prognosis', 'muscle_pain'), ('prognosis', 'irritability'), ('prognosis', 'excessive_hunger'), ('prognosis', 'lethargy'), ('prognosis', 'weight_loss'), ('prognosis', 'breathlessness'), ('prognosis', 'phlegm'), ('prognosis', 'mild_fever'), ('prognosis', 'swelled_lymph_nodes'), ('prognosis', 'blurred_and_distorted_vision'), ('prognosis', 'loss_of_balance'), ('prognosis', 'dizziness'), ('prognosis', 'fast_heart_rate'), ('prognosis', 'red_spots_over_body'), ('prognosis', 'muscle_weakness'), ('prognosis', 'depression'), ('prognosis', 'back_pain'), ('prognosis', 'stiff_neck'), ('prognosis', 'mood_swings'), ('prognosis', 'family_history'), ('prognosis', 'restlessness'), ('prognosis', 'swelling_joints'), ('prognosis', 'obesity'), ('prognosis', 'constipation'), ('prognosis', 'neck_pain'), ('prognosis', 'stomach_pain'), ('prognosis', 'continuous_sneezing'), ('prognosis', 'indigestion'), ('prognosis', 'acidity'), ('prognosis', 'burning_micturition'), ('prognosis', 'palpitations'), ('prognosis', 'receiving_unsterile_injections'), ('prognosis', 'stomach_bleeding'), ('prognosis', 'blood_in_sputum'), ('prognosis', 'throat_irritation'), ('prognosis', 'polyuria'), ('prognosis', 'visual_disturbances'), ('prognosis', 'movement_stiffness'), ('prognosis', 'yellow_crust_ooze'), ('prognosis', 'distention_of_abdomen'), ('prognosis', 'toxic_look_(typhos)'), ('prognosis', 'mucoid_sputum'), ('prognosis', 'lack_of_concentration'), ('prognosis', 'knee_pain'), ('prognosis', 'internal_itching'), ('prognosis', 'silver_like_dusting'), ('prognosis', 'irritation_in_anus'), ('prognosis', 'dischromic _patches'), ('prognosis', 'pus_filled_pimples'), ('prognosis', 'weakness_of_one_body_side'), ('prognosis', 'spotting_ urination'), ('prognosis', 'sunken_eyes'), ('prognosis', 'extra_marital_contacts'), ('prognosis', 'spinning_movements'), ('prognosis', 'shivering'), ('prognosis', 'foul_smell_of urine')], 'adjmat': target                itching  skin_rash  nodal_skin_eruptions  \\\n",
      "source                                                           \n",
      "itching                 False      False                  True   \n",
      "skin_rash               False      False                 False   \n",
      "nodal_skin_eruptions    False      False                 False   \n",
      "continuous_sneezing     False      False                 False   \n",
      "shivering               False      False                 False   \n",
      "...                       ...        ...                   ...   \n",
      "inflammatory_nails      False      False                 False   \n",
      "blister                 False      False                 False   \n",
      "red_sore_around_nose    False      False                 False   \n",
      "yellow_crust_ooze       False      False                 False   \n",
      "prognosis                True       True                 False   \n",
      "\n",
      "target                continuous_sneezing  shivering  chills  joint_pain  \\\n",
      "source                                                                     \n",
      "itching                             False      False   False       False   \n",
      "skin_rash                           False      False   False       False   \n",
      "nodal_skin_eruptions                False      False   False       False   \n",
      "continuous_sneezing                 False      False   False       False   \n",
      "shivering                           False      False   False       False   \n",
      "...                                   ...        ...     ...         ...   \n",
      "inflammatory_nails                  False      False   False       False   \n",
      "blister                             False      False   False       False   \n",
      "red_sore_around_nose                False      False   False       False   \n",
      "yellow_crust_ooze                   False      False   False       False   \n",
      "prognosis                            True       True    True        True   \n",
      "\n",
      "target                stomach_pain  acidity  ulcers_on_tongue  ...  \\\n",
      "source                                                         ...   \n",
      "itching                      False    False             False  ...   \n",
      "skin_rash                    False    False             False  ...   \n",
      "nodal_skin_eruptions         False    False             False  ...   \n",
      "continuous_sneezing          False    False             False  ...   \n",
      "shivering                    False    False             False  ...   \n",
      "...                            ...      ...               ...  ...   \n",
      "inflammatory_nails           False    False             False  ...   \n",
      "blister                      False    False             False  ...   \n",
      "red_sore_around_nose         False    False             False  ...   \n",
      "yellow_crust_ooze            False    False             False  ...   \n",
      "prognosis                     True     True             False  ...   \n",
      "\n",
      "target                blackheads  scurring  skin_peeling  silver_like_dusting  \\\n",
      "source                                                                          \n",
      "itching                    False     False         False                False   \n",
      "skin_rash                  False      True         False                False   \n",
      "nodal_skin_eruptions       False     False         False                False   \n",
      "continuous_sneezing        False     False         False                False   \n",
      "shivering                  False     False         False                False   \n",
      "...                          ...       ...           ...                  ...   \n",
      "inflammatory_nails         False     False         False                False   \n",
      "blister                    False     False         False                False   \n",
      "red_sore_around_nose       False     False         False                False   \n",
      "yellow_crust_ooze          False     False         False                False   \n",
      "prognosis                  False     False         False                 True   \n",
      "\n",
      "target                small_dents_in_nails  inflammatory_nails  blister  \\\n",
      "source                                                                    \n",
      "itching                              False               False    False   \n",
      "skin_rash                            False               False    False   \n",
      "nodal_skin_eruptions                 False               False    False   \n",
      "continuous_sneezing                  False               False    False   \n",
      "shivering                            False               False    False   \n",
      "...                                    ...                 ...      ...   \n",
      "inflammatory_nails                    True               False    False   \n",
      "blister                              False               False    False   \n",
      "red_sore_around_nose                 False               False     True   \n",
      "yellow_crust_ooze                    False               False     True   \n",
      "prognosis                            False               False    False   \n",
      "\n",
      "target                red_sore_around_nose  yellow_crust_ooze  prognosis  \n",
      "source                                                                    \n",
      "itching                              False              False      False  \n",
      "skin_rash                             True              False      False  \n",
      "nodal_skin_eruptions                 False              False      False  \n",
      "continuous_sneezing                  False              False      False  \n",
      "shivering                            False              False      False  \n",
      "...                                    ...                ...        ...  \n",
      "inflammatory_nails                   False              False      False  \n",
      "blister                              False              False      False  \n",
      "red_sore_around_nose                 False              False      False  \n",
      "yellow_crust_ooze                     True              False      False  \n",
      "prognosis                            False               True      False  \n",
      "\n",
      "[133 rows x 133 columns], 'config': {'method': 'hc', 'scoring': 'bic', 'black_list': None, 'white_list': None, 'bw_list_method': None, 'max_indegree': None, 'tabu_length': 100, 'epsilon': 0.0001, 'max_iter': 1000000.0, 'root_node': None, 'class_node': None, 'fixed_edges': set(), 'return_all_dags': False, 'n_jobs': -1, 'verbose': 3}}\n"
     ]
    }
   ],
   "source": [
    "bn.save(model, filepath=\"trained_model\", overwrite=True)"
   ]
  }
 ],
 "metadata": {
  "interpreter": {
   "hash": "f75cfd8d83e5e0ff5efcf80446b358d1c19dbf94fee83ea009cf8f53d56b402f"
  },
  "kernelspec": {
   "display_name": "Python 3.10.4 ('venv': venv)",
   "language": "python",
   "name": "python3"
  },
  "language_info": {
   "codemirror_mode": {
    "name": "ipython",
    "version": 3
   },
   "file_extension": ".py",
   "mimetype": "text/x-python",
   "name": "python",
   "nbconvert_exporter": "python",
   "pygments_lexer": "ipython3",
   "version": "3.10.5"
  },
  "orig_nbformat": 4,
  "vscode": {
   "interpreter": {
    "hash": "f75cfd8d83e5e0ff5efcf80446b358d1c19dbf94fee83ea009cf8f53d56b402f"
   }
  }
 },
 "nbformat": 4,
 "nbformat_minor": 2
}
