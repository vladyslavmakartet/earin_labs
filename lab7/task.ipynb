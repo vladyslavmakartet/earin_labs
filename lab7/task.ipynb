{
 "cells": [
  {
   "cell_type": "code",
   "execution_count": 51,
   "metadata": {},
   "outputs": [],
   "source": [
    "import pandas as pd\n",
    "import numpy as np\n",
    "import sklearn as sk"
   ]
  },
  {
   "cell_type": "markdown",
   "metadata": {},
   "source": [
    "Data analysis and preparation"
   ]
  },
  {
   "cell_type": "code",
   "execution_count": 52,
   "metadata": {},
   "outputs": [],
   "source": [
    "training_set = pd.read_csv(\"Training.csv\")"
   ]
  },
  {
   "cell_type": "code",
   "execution_count": 53,
   "metadata": {},
   "outputs": [
    {
     "name": "stdout",
     "output_type": "stream",
     "text": [
      "Index(['itching', 'skin_rash', 'nodal_skin_eruptions', 'continuous_sneezing',\n",
      "       'shivering', 'chills', 'joint_pain', 'stomach_pain', 'acidity',\n",
      "       'ulcers_on_tongue',\n",
      "       ...\n",
      "       'blackheads', 'scurring', 'skin_peeling', 'silver_like_dusting',\n",
      "       'small_dents_in_nails', 'inflammatory_nails', 'blister',\n",
      "       'red_sore_around_nose', 'yellow_crust_ooze', 'prognosis'],\n",
      "      dtype='object', length=133)\n"
     ]
    }
   ],
   "source": [
    "print(training_set.columns)"
   ]
  },
  {
   "cell_type": "code",
   "execution_count": 54,
   "metadata": {},
   "outputs": [
    {
     "name": "stdout",
     "output_type": "stream",
     "text": [
      "<class 'pandas.core.frame.DataFrame'>\n",
      "RangeIndex: 4920 entries, 0 to 4919\n",
      "Columns: 133 entries, itching to prognosis\n",
      "dtypes: int64(132), object(1)\n",
      "memory usage: 5.0+ MB\n"
     ]
    }
   ],
   "source": [
    "training_set.info()"
   ]
  },
  {
   "cell_type": "code",
   "execution_count": 55,
   "metadata": {},
   "outputs": [
    {
     "name": "stdout",
     "output_type": "stream",
     "text": [
      "   itching  skin_rash  nodal_skin_eruptions  continuous_sneezing  shivering  \\\n",
      "0        1          1                     1                    0          0   \n",
      "1        0          1                     1                    0          0   \n",
      "2        1          0                     1                    0          0   \n",
      "3        1          1                     0                    0          0   \n",
      "4        1          1                     1                    0          0   \n",
      "5        0          1                     1                    0          0   \n",
      "6        1          0                     1                    0          0   \n",
      "7        1          1                     0                    0          0   \n",
      "8        1          1                     1                    0          0   \n",
      "9        1          1                     1                    0          0   \n",
      "\n",
      "   chills  joint_pain  stomach_pain  acidity  ulcers_on_tongue  ...  \\\n",
      "0       0           0             0        0                 0  ...   \n",
      "1       0           0             0        0                 0  ...   \n",
      "2       0           0             0        0                 0  ...   \n",
      "3       0           0             0        0                 0  ...   \n",
      "4       0           0             0        0                 0  ...   \n",
      "5       0           0             0        0                 0  ...   \n",
      "6       0           0             0        0                 0  ...   \n",
      "7       0           0             0        0                 0  ...   \n",
      "8       0           0             0        0                 0  ...   \n",
      "9       0           0             0        0                 0  ...   \n",
      "\n",
      "   blackheads  scurring  skin_peeling  silver_like_dusting  \\\n",
      "0           0         0             0                    0   \n",
      "1           0         0             0                    0   \n",
      "2           0         0             0                    0   \n",
      "3           0         0             0                    0   \n",
      "4           0         0             0                    0   \n",
      "5           0         0             0                    0   \n",
      "6           0         0             0                    0   \n",
      "7           0         0             0                    0   \n",
      "8           0         0             0                    0   \n",
      "9           0         0             0                    0   \n",
      "\n",
      "   small_dents_in_nails  inflammatory_nails  blister  red_sore_around_nose  \\\n",
      "0                     0                   0        0                     0   \n",
      "1                     0                   0        0                     0   \n",
      "2                     0                   0        0                     0   \n",
      "3                     0                   0        0                     0   \n",
      "4                     0                   0        0                     0   \n",
      "5                     0                   0        0                     0   \n",
      "6                     0                   0        0                     0   \n",
      "7                     0                   0        0                     0   \n",
      "8                     0                   0        0                     0   \n",
      "9                     0                   0        0                     0   \n",
      "\n",
      "   yellow_crust_ooze         prognosis  \n",
      "0                  0  Fungal infection  \n",
      "1                  0  Fungal infection  \n",
      "2                  0  Fungal infection  \n",
      "3                  0  Fungal infection  \n",
      "4                  0  Fungal infection  \n",
      "5                  0  Fungal infection  \n",
      "6                  0  Fungal infection  \n",
      "7                  0  Fungal infection  \n",
      "8                  0  Fungal infection  \n",
      "9                  0  Fungal infection  \n",
      "\n",
      "[10 rows x 133 columns]\n"
     ]
    }
   ],
   "source": [
    "print(training_set[:10])"
   ]
  },
  {
   "cell_type": "code",
   "execution_count": 56,
   "metadata": {},
   "outputs": [
    {
     "name": "stdout",
     "output_type": "stream",
     "text": [
      "['Osteoarthristis', 'Arthritis', 'Peptic ulcer diseae', 'Hyperthyroidism', 'Typhoid', 'Gastroenteritis', 'Chronic cholestasis', 'Diabetes ', '(vertigo) Paroymsal  Positional Vertigo', 'GERD', 'Impetigo', 'Tuberculosis', 'Hypoglycemia', 'Pneumonia', 'Paralysis (brain hemorrhage)', 'Allergy', 'Heart attack', 'Acne', 'Drug Reaction', 'Fungal infection', 'Chicken pox', 'Dengue', 'Urinary tract infection', 'Migraine', 'Varicose veins', 'Psoriasis', 'AIDS', 'hepatitis A', 'Hepatitis B', 'Common Cold', 'Cervical spondylosis', 'Jaundice', 'Hepatitis D', 'Malaria', 'Hypertension ', 'Hepatitis C', 'Alcoholic hepatitis', 'Hypothyroidism', 'Hepatitis E', 'Dimorphic hemmorhoids(piles)', 'Bronchial Asthma']\n"
     ]
    }
   ],
   "source": [
    "print(list(set(training_set['prognosis'].values)))"
   ]
  },
  {
   "cell_type": "code",
   "execution_count": 59,
   "metadata": {},
   "outputs": [
    {
     "data": {
      "text/plain": [
       "0                              Fungal infection\n",
       "1                              Fungal infection\n",
       "2                              Fungal infection\n",
       "3                              Fungal infection\n",
       "4                              Fungal infection\n",
       "                         ...                   \n",
       "4915    (vertigo) Paroymsal  Positional Vertigo\n",
       "4916                                       Acne\n",
       "4917                    Urinary tract infection\n",
       "4918                                  Psoriasis\n",
       "4919                                   Impetigo\n",
       "Name: prognosis, Length: 4920, dtype: object"
      ]
     },
     "execution_count": 59,
     "metadata": {},
     "output_type": "execute_result"
    }
   ],
   "source": [
    "training_labels = training_set['prognosis']\n",
    "training_labels"
   ]
  },
  {
   "cell_type": "code",
   "execution_count": 62,
   "metadata": {},
   "outputs": [
    {
     "name": "stdout",
     "output_type": "stream",
     "text": [
      "   itching  skin_rash  nodal_skin_eruptions  continuous_sneezing  shivering  \\\n",
      "0        1          1                     1                    0          0   \n",
      "1        0          1                     1                    0          0   \n",
      "2        1          0                     1                    0          0   \n",
      "3        1          1                     0                    0          0   \n",
      "4        1          1                     1                    0          0   \n",
      "5        0          1                     1                    0          0   \n",
      "6        1          0                     1                    0          0   \n",
      "7        1          1                     0                    0          0   \n",
      "8        1          1                     1                    0          0   \n",
      "9        1          1                     1                    0          0   \n",
      "\n",
      "   chills  joint_pain  stomach_pain  acidity  ulcers_on_tongue  ...  \\\n",
      "0       0           0             0        0                 0  ...   \n",
      "1       0           0             0        0                 0  ...   \n",
      "2       0           0             0        0                 0  ...   \n",
      "3       0           0             0        0                 0  ...   \n",
      "4       0           0             0        0                 0  ...   \n",
      "5       0           0             0        0                 0  ...   \n",
      "6       0           0             0        0                 0  ...   \n",
      "7       0           0             0        0                 0  ...   \n",
      "8       0           0             0        0                 0  ...   \n",
      "9       0           0             0        0                 0  ...   \n",
      "\n",
      "   pus_filled_pimples  blackheads  scurring  skin_peeling  \\\n",
      "0                   0           0         0             0   \n",
      "1                   0           0         0             0   \n",
      "2                   0           0         0             0   \n",
      "3                   0           0         0             0   \n",
      "4                   0           0         0             0   \n",
      "5                   0           0         0             0   \n",
      "6                   0           0         0             0   \n",
      "7                   0           0         0             0   \n",
      "8                   0           0         0             0   \n",
      "9                   0           0         0             0   \n",
      "\n",
      "   silver_like_dusting  small_dents_in_nails  inflammatory_nails  blister  \\\n",
      "0                    0                     0                   0        0   \n",
      "1                    0                     0                   0        0   \n",
      "2                    0                     0                   0        0   \n",
      "3                    0                     0                   0        0   \n",
      "4                    0                     0                   0        0   \n",
      "5                    0                     0                   0        0   \n",
      "6                    0                     0                   0        0   \n",
      "7                    0                     0                   0        0   \n",
      "8                    0                     0                   0        0   \n",
      "9                    0                     0                   0        0   \n",
      "\n",
      "   red_sore_around_nose  yellow_crust_ooze  \n",
      "0                     0                  0  \n",
      "1                     0                  0  \n",
      "2                     0                  0  \n",
      "3                     0                  0  \n",
      "4                     0                  0  \n",
      "5                     0                  0  \n",
      "6                     0                  0  \n",
      "7                     0                  0  \n",
      "8                     0                  0  \n",
      "9                     0                  0  \n",
      "\n",
      "[10 rows x 132 columns]\n"
     ]
    }
   ],
   "source": [
    "training_set.drop(\"prognosis\", axis=1, inplace=True)\n",
    "print(training_set[:10])"
   ]
  },
  {
   "cell_type": "code",
   "execution_count": 57,
   "metadata": {},
   "outputs": [],
   "source": [
    "testing_set = pd.read_csv(\"Testing.csv\")"
   ]
  },
  {
   "cell_type": "code",
   "execution_count": 85,
   "metadata": {},
   "outputs": [],
   "source": [
    "from sklearn.feature_extraction.text import TfidfVectorizer\n",
    "from sklearn.naive_bayes import MultinomialNB\n",
    "from sklearn.pipeline import make_pipeline\n",
    "\n",
    "model = make_pipeline(MultinomialNB())"
   ]
  },
  {
   "cell_type": "code",
   "execution_count": 100,
   "metadata": {},
   "outputs": [
    {
     "data": {
      "text/plain": [
       "Pipeline(steps=[('multinomialnb', MultinomialNB())])"
      ]
     },
     "execution_count": 100,
     "metadata": {},
     "output_type": "execute_result"
    }
   ],
   "source": [
    "model.fit(training_set, training_labels)"
   ]
  },
  {
   "cell_type": "code",
   "execution_count": 102,
   "metadata": {},
   "outputs": [],
   "source": [
    "testing_labels = testing_set['prognosis']\n",
    "testing_set.drop(\"prognosis\", axis=1, inplace=True)"
   ]
  },
  {
   "cell_type": "code",
   "execution_count": 125,
   "metadata": {},
   "outputs": [],
   "source": [
    "labels = model.predict(testing_set)"
   ]
  },
  {
   "cell_type": "code",
   "execution_count": 113,
   "metadata": {},
   "outputs": [],
   "source": [
    "import matplotlib.pyplot as plt\n",
    "import seaborn as sns\n",
    "%matplotlib inline"
   ]
  },
  {
   "cell_type": "code",
   "execution_count": 126,
   "metadata": {},
   "outputs": [
    {
     "data": {
      "image/png": "[encoded data removed]",
      "text/plain": [
       "<Figure size 1080x864 with 1 Axes>"
      ]
     },
     "metadata": {
      "needs_background": "light"
     },
     "output_type": "display_data"
    }
   ],
   "source": [
    "from sklearn.metrics import confusion_matrix\n",
    "mat = confusion_matrix(testing_labels, labels)\n",
    "plt.figure(figsize=(15,12))\n",
    "sns.heatmap(mat.T, square=True, annot=True, fmt='d', cbar=False)\n",
    "plt.xlabel('true label')\n",
    "plt.ylabel('predicted label');\n",
    "plt.show()"
   ]
  }
 ],
 "metadata": {
  "interpreter": {
   "hash": "f75cfd8d83e5e0ff5efcf80446b358d1c19dbf94fee83ea009cf8f53d56b402f"
  },
  "kernelspec": {
   "display_name": "Python 3.10.4 ('venv': venv)",
   "language": "python",
   "name": "python3"
  },
  "language_info": {
   "codemirror_mode": {
    "name": "ipython",
    "version": 3
   },
   "file_extension": ".py",
   "mimetype": "text/x-python",
   "name": "python",
   "nbconvert_exporter": "python",
   "pygments_lexer": "ipython3",
   "version": "3.10.5"
  },
  "orig_nbformat": 4,
  "vscode": {
   "interpreter": {
    "hash": "f75cfd8d83e5e0ff5efcf80446b358d1c19dbf94fee83ea009cf8f53d56b402f"
   }
  }
 },
 "nbformat": 4,
 "nbformat_minor": 2
}
